{
  "nbformat": 4,
  "nbformat_minor": 0,
  "metadata": {
    "colab": {
      "provenance": [],
      "collapsed_sections": []
    },
    "kernelspec": {
      "name": "python3",
      "display_name": "Python 3"
    },
    "language_info": {
      "name": "python"
    }
  },
  "cells": [
    {
      "cell_type": "markdown",
      "source": [
        "### Activity 1:\n",
        "Consider a toy problem that can be represented as a following graph. How would you represent this\n",
        "graph in python?"
      ],
      "metadata": {
        "id": "AgwR-VwS59RH"
      }
    },
    {
      "cell_type": "code",
      "source": [
        "class Node:\n",
        "  def __init__(self, state, parent, actions, totalCost):\n",
        "    self.state = state\n",
        "    self.parent = parent\n",
        "    self.actions = actions\n",
        "    self.totalCost = totalCost"
      ],
      "metadata": {
        "id": "WCXquOYj6sMA"
      },
      "execution_count": null,
      "outputs": []
    },
    {
      "cell_type": "code",
      "source": [
        "graph = {'A': Node('A', None, ['B', 'C', 'E'], None),\n",
        "         'B': Node('B', None, ['A', 'D', 'E'], None),\n",
        "         'C': Node('C', None, ['A', 'F', 'G'], None),\n",
        "         'D': Node('D', None, ['B', 'E'], None),\n",
        "         'E': Node('E', None, ['A', 'B', 'D'], None),\n",
        "         'F': Node('F', None, ['C'], None),\n",
        "         'G': Node('G', None, ['C'], None)}\n",
        "\n",
        "graph         "
      ],
      "metadata": {
        "colab": {
          "base_uri": "https://localhost:8080/"
        },
        "id": "0Y_nwdtp7Vzn",
        "outputId": "01fd22e9-034a-476c-89f2-8665923e6c5c"
      },
      "execution_count": null,
      "outputs": [
        {
          "output_type": "execute_result",
          "data": {
            "text/plain": [
              "{'A': <__main__.Node at 0x7f4b4b3d2450>,\n",
              " 'B': <__main__.Node at 0x7f4b4b3d2190>,\n",
              " 'C': <__main__.Node at 0x7f4b4b3d2210>,\n",
              " 'D': <__main__.Node at 0x7f4b4b3d2110>,\n",
              " 'E': <__main__.Node at 0x7f4b4b3d2590>,\n",
              " 'F': <__main__.Node at 0x7f4b4b3d23d0>,\n",
              " 'G': <__main__.Node at 0x7f4b4b3d21d0>}"
            ]
          },
          "metadata": {},
          "execution_count": 3
        }
      ]
    },
    {
      "cell_type": "markdown",
      "source": [
        "### Lab Task 1:\n",
        "Imagine going from Arad to Bucharest in the following map.\n",
        "Implement a BFS to find the corresponding path."
      ],
      "metadata": {
        "id": "pflGWXLAUdsc"
      }
    },
    {
      "cell_type": "code",
      "source": [
        "class Node:\n",
        "    def __init__(self, state, parent, actions):\n",
        "        self.state = state\n",
        "        self.parent = parent\n",
        "        self.actions = actions"
      ],
      "metadata": {
        "id": "hAAQ4MKhVNJD"
      },
      "execution_count": null,
      "outputs": []
    },
    {
      "cell_type": "code",
      "source": [
        "def road_map(node_graphs, starting_node, destination_node):\n",
        "    temp = [destination_node]\n",
        "    parent_current = node_graphs[destination_node].parent\n",
        "\n",
        "    while parent_current != None:\n",
        "        temp.append(parent_current)\n",
        "        parent_current = node_graphs[parent_current].parent\n",
        "\n",
        "    temp.reverse()\n",
        "    return temp"
      ],
      "metadata": {
        "id": "YamDmumIVPHl"
      },
      "execution_count": null,
      "outputs": []
    },
    {
      "cell_type": "code",
      "source": [
        "def BFS():\n",
        "    starting_node = input('Enter the initial node: ')\n",
        "    destination_node = input('Enter the destination node: ')\n",
        "\n",
        "    node_graphs = {\n",
        "            'oradea': Node('oradea', None, ['zerind', 'sibui']),\n",
        "            'zerind': Node('zerind', None, ['oradea', 'arad']),\n",
        "            'neamt': Node('neamt', None, ['iasi']),\n",
        "            'arad': Node('arad', None, ['zerind', 'sibui', 'timisoara']),\n",
        "            'isai': Node('isai', None, ['neamt', 'vaslui']),\n",
        "            'sibui': Node('sibui', None, ['oradea', 'arad', 'fagaras']),\n",
        "            'fagaras': Node('fagaras', None, ['sibui', 'bucharest']),\n",
        "            'vaslui': Node('vaslui', None, ['isai', 'urziceni']),\n",
        "            'timisoara': Node('timisoara', None, ['arad', 'lugoj']),\n",
        "            'riminica': Node('riminica', None, ['sibui', 'pitesti', 'craiova']),\n",
        "            'lugoj': Node('lugoj', None, ['timisoara', 'mehadia']),\n",
        "            'pitesti': Node('pitesti', None, ['riminica', 'craiova', 'bucharest']),\n",
        "            'mehadia': Node('mehadia', None, ['lugoj', 'drobeta']),\n",
        "            'bucharest': Node('bucharest', None, ['fagaras', 'pitesti', 'urziceni']),\n",
        "            'urziceni': Node('uriceni', None, ['bucharest', 'hirsova', 'vaslui']),\n",
        "            'hirsova': Node('hirsova', None, ['urziceni', 'eforie']),\n",
        "            'drobeta': Node('drobeta', None, ['mehndia', 'craiova']),\n",
        "            'craiova': Node('craiova', None, ['drobeta', 'riminica', 'pitesti']),\n",
        "            'giurgui': Node('giurgui', None, ['bucharest']),\n",
        "            'eforie': Node('eforie', None, ['hirsova'])\n",
        "    }\n",
        "\n",
        "    queue = [starting_node]\n",
        "    visited_node = []\n",
        "\n",
        "    while len(queue) != 0:\n",
        "        temp = queue.pop(0)\n",
        "        visited_node.append(temp)\n",
        "\n",
        "        for child in node_graphs[temp].actions:\n",
        "            if child not in queue and child not in visited_node:\n",
        "                node_graphs[child].state = temp\n",
        "                if node_graphs[child].state == destination_node:\n",
        "                    return road_map(node_graphs, starting_node, destination_node)\n",
        "                queue.append(child)"
      ],
      "metadata": {
        "id": "dfcGXf_0Ujs4"
      },
      "execution_count": null,
      "outputs": []
    },
    {
      "cell_type": "code",
      "source": [
        "solution = BFS()\n",
        "print('Shortest path is: ', solution)"
      ],
      "metadata": {
        "colab": {
          "base_uri": "https://localhost:8080/"
        },
        "id": "FpFRFj4pWUxN",
        "outputId": "b9ecf112-48c6-4e0a-de00-d7d2c32649e9"
      },
      "execution_count": null,
      "outputs": [
        {
          "output_type": "stream",
          "name": "stdout",
          "text": [
            "Enter the initial node: arad\n",
            "Enter the destination node: bucharest\n",
            "Shortest path is:  ['bucharest']\n"
          ]
        }
      ]
    }
  ]
}